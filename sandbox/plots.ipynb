{
 "cells": [
  {
   "cell_type": "code",
   "execution_count": null,
   "metadata": {},
   "outputs": [],
   "source": [
    "from mettsim import middle_earth\n",
    "\n",
    "from ttsim import plot"
   ]
  },
  {
   "cell_type": "code",
   "execution_count": null,
   "metadata": {},
   "outputs": [],
   "source": [
    "plot.dag.interface(width=1000, height=1000, show_node_description=True)"
   ]
  },
  {
   "cell_type": "code",
   "execution_count": null,
   "metadata": {},
   "outputs": [],
   "source": [
    "plot.dag.interface(\n",
    "    title=\"Interface DAG without backend nodes and without fail and warn nodes\",\n",
    "    include_fail_and_warn_nodes=False,\n",
    "    include_backend_nodes=False,\n",
    "    show_node_description=True,\n",
    "    width=1000,\n",
    "    height=1000,\n",
    ")"
   ]
  },
  {
   "cell_type": "code",
   "execution_count": null,
   "metadata": {},
   "outputs": [],
   "source": [
    "plot.dag.tt(\n",
    "    title=\"METTSIM policy environment without colormap\",\n",
    "    root=middle_earth.ROOT_PATH,\n",
    "    policy_date_str=\"2025-01-01\",\n",
    ")"
   ]
  },
  {
   "cell_type": "code",
   "execution_count": null,
   "metadata": {},
   "outputs": [],
   "source": [
    "plot.dag.tt(\n",
    "    title=\"METTSIM policy environment with `middle_earth.COLORMAP`\",\n",
    "    root=middle_earth.ROOT_PATH,\n",
    "    policy_date_str=\"2025-01-01\",\n",
    "    node_colormap=middle_earth.COLORMAP,\n",
    ")"
   ]
  },
  {
   "cell_type": "code",
   "execution_count": null,
   "metadata": {},
   "outputs": [],
   "source": []
  }
 ],
 "metadata": {
  "language_info": {
   "codemirror_mode": {
    "name": "ipython",
    "version": 3
   },
   "file_extension": ".py",
   "mimetype": "text/x-python",
   "name": "python",
   "nbconvert_exporter": "python",
   "pygments_lexer": "ipython3"
  }
 },
 "nbformat": 4,
 "nbformat_minor": 2
}
